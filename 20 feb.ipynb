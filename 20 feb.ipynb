{
 "cells": [
  {
   "cell_type": "code",
   "execution_count": null,
   "id": "8d373f54-7d49-4a12-acf9-26ea370814f7",
   "metadata": {},
   "outputs": [],
   "source": [
    "#Q1\n",
    "GET- It requests the data from a specified resource.\n",
    "POST- It submits the processed data to a specified resource."
   ]
  },
  {
   "cell_type": "code",
   "execution_count": null,
   "id": "d870f4d0-2792-4251-8e10-fa709ef00902",
   "metadata": {},
   "outputs": [],
   "source": [
    "#Q2\n",
    "The Request, in Flask, is an object that contains all the data sent from the Client to Server."
   ]
  },
  {
   "cell_type": "code",
   "execution_count": null,
   "id": "fbe73a93-8bb1-48c2-94c6-4603d6f60ef8",
   "metadata": {},
   "outputs": [],
   "source": [
    "Q3\n",
    "The Request, in Flask, is an object that contains all the data sent from the Client to Server."
   ]
  },
  {
   "cell_type": "code",
   "execution_count": null,
   "id": "9c7d6ecd-7708-4eb6-9112-ac6386c7f142",
   "metadata": {},
   "outputs": [],
   "source": [
    "Q4\n",
    "Templates are files that contain static data as well as placeholders for dynamic data.\n",
    "render_template processes the template file using the Jinja2 templating engine."
   ]
  },
  {
   "cell_type": "code",
   "execution_count": null,
   "id": "dd2ea529-b83a-4b14-8573-f2be991bfccd",
   "metadata": {},
   "outputs": [],
   "source": [
    "#Q5\n"
   ]
  }
 ],
 "metadata": {
  "kernelspec": {
   "display_name": "Python 3 (ipykernel)",
   "language": "python",
   "name": "python3"
  },
  "language_info": {
   "codemirror_mode": {
    "name": "ipython",
    "version": 3
   },
   "file_extension": ".py",
   "mimetype": "text/x-python",
   "name": "python",
   "nbconvert_exporter": "python",
   "pygments_lexer": "ipython3",
   "version": "3.10.8"
  }
 },
 "nbformat": 4,
 "nbformat_minor": 5
}
